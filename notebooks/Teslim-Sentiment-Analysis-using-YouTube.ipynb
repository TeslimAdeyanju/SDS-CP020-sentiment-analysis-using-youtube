{
 "cells": [
  {
   "cell_type": "markdown",
   "metadata": {},
   "source": [
    "# 🌐  **The Impact of Immigration on the UK – A YouTube Sentiment Analysis**"
   ]
  },
  {
   "cell_type": "markdown",
   "metadata": {},
   "source": [
    "### Table of Contents\n",
    "\n",
    "1. **Phase 1: Introduction**\n",
    "   - [Overview](#overview)\n",
    "   - [Project Objectives](#project-objectives)\n",
    "   - [Google Developer Account Setup](#google-developer-account-setup)\n",
    "\n",
    "3. **Phase 2: Data Collection**\n",
    "   - [YouTube API Registration and Authentication](#youtube-api-registration-authentication)\n",
    "   - [Writing Python Scripts to Fetch Comments](#writing-python-scripts-to-fetch-comments)\n",
    "\n",
    "3. **Phase 3: Database Setup**\n",
    "   - [Setting up a PostgreSQL Database](#setting-up-a-postgresql-database)\n",
    "   - [Creating Tables in the Database](#creating-tables-in-the-database)\n",
    "   - [Database Connection Testing](#database-connection-testing)\n",
    "\n",
    "4. **Phase 4: ETL Pipeline Development**\n",
    "   - [Building Airflow DAGs](#building-airflow-dags)\n",
    "   - [Data Cleaning and Storage](#data-cleaning-and-storage)\n",
    "   - [Database Integration Testing](#database-integration-testing)\n",
    "\n",
    "5. **Phase 5: Train and Evaluate Sentiment Models**\n",
    "   - [Conducting EDA and Preprocessing Comments Data](#conducting-eda-and-preprocessing-comments-data)\n",
    "   - [TextBlob Sentiment Analysis](#textblob-sentiment-analysis)\n",
    "   - [VADER Sentiment Analysis](#vader-sentiment-analysis)\n",
    "   - [Comparing TextBlob and VADER](#comparing-textblob-and-vader)\n",
    "\n",
    "6. **Phase 6: Model Deployment**\n",
    "   - [Building a Streamlit App](#building-a-streamlit-app)\n",
    "   - [Deploying the App on Streamlit/Huggingface](#deploying-the-app-on-streamlit-huggingface)\n"
   ]
  },
  {
   "cell_type": "markdown",
   "metadata": {},
   "source": [
    "# 📚 1. **Introduction**\n",
    "___\n",
    "\n",
    "<div style=\"font-family: Avenir, sans-serif; font-size: 16px; line-height: 1.6; color: white; background-color: #333; padding: 10px; border-radius: 5px;\">\n",
    "This section deals with the introduction of the project, the objectives, and the setup of the Google Developer Account.\n",
    "\n",
    "</div>"
   ]
  },
  {
   "cell_type": "markdown",
   "metadata": {},
   "source": [
    "### 🔍 **Overview**\n",
    "\n",
    "This project analyzes the sentiment of YouTube comments using the YouTube API and Natural Language Processing (NLP) techniques. The workflow involves collecting comments from selected YouTube videos, preprocessing the data, training sentiment analysis models, and deploying the models in a web application for real-time analysis.\n",
    "\n",
    "The YouTube comments are fetched using the YouTube API and classified into **positive, negative, or neutral** sentiments using a Huggingface machine learning model. An **ETL pipeline** built with **Apache Airflow** automates the extraction, transformation, and storage of the data. The trained model is then deployed using **Streamlit** or **Huggingface Spaces** for easy accessibility.\n",
    "\n",
    "### 📹 **YouTube Videos Analyzed**\n",
    "1. **The “Migrant Crisis” Destroying Britain** – [Watch Here](https://www.youtube.com/watch?v=2F26DR3Be4g) *(The Young Turks)*\n",
    "2. **The UK far-right blames immigrants for economic woes** – [Watch Here](https://www.youtube.com/watch?v=2F26DR3Be4g) *(Al Jazeera English)*\n",
    "\n",
    "---\n",
    "\n",
    "### 🎨 **Project Objectives**\n",
    "\n",
    "- ✅ **Data Collection & Storage:** Fetch comments from YouTube videos using the **YouTube Data API** and store them in a structured database.\n",
    "- ⚙️ **ETL Pipeline Automation:** Build an **Apache Airflow** pipeline to automate data fetching, cleaning, and storage.\n",
    "- 🤖 **Sentiment Analysis Model:** Train a sentiment classification model using **Huggingface transformers** to categorize comments as **positive, negative, or neutral**.\n",
    "- 🛠️ **Model Deployment:** Deploy the trained model via **Streamlit** or **Huggingface Spaces** for real-time sentiment analysis.\n",
    "\n",
    "---\n",
    "\n",
    "### 💻 **Google Developer Account Setup**\n",
    "\n",
    "To use the YouTube API, follow these steps to create a Google Developer Account and enable the YouTube Data API:\n",
    "\n",
    "1. Go to the [Google Developers Console](https://console.developers.google.com/).\n",
    "2. Click on **\"Select a project\"** at the top of the screen.\n",
    "3. Click on **\"New Project\"** and enter a project name.\n",
    "4. Click **\"Create\"** to initialize the project.\n",
    "5. Navigate to **\"APIs & Services\"** → **\"Library\"**.\n",
    "6. Search for **\"YouTube Data API v3\"** and click on it.\n",
    "7. Click **\"Enable\"** to activate the API for your project.\n",
    "8. Go to **\"Credentials\"** and click on **\"Create credentials\"**.\n",
    "9. Select **\"API key\"** and copy the generated key for use in your Python scripts.\n",
    "\n",
    "\n",
    "\n"
   ]
  },
  {
   "cell_type": "markdown",
   "metadata": {},
   "source": [
    "# 📚 2. **Data collection**\n",
    "___\n",
    "\n",
    "<div style=\"font-family: Avenir, sans-serif; font-size: 16px; line-height: 1.6; color: white; background-color: #333; padding: 10px; border-radius: 5px;\">\n",
    "This section deals with data collection from YouTube using the YouTube API and writing Python scripts to fetch comments.\n",
    "\n",
    "</div>"
   ]
  },
  {
   "cell_type": "code",
   "execution_count": 1,
   "metadata": {},
   "outputs": [
    {
     "name": "stdout",
     "output_type": "stream",
     "text": [
      "API key loaded successfully.\n"
     ]
    }
   ],
   "source": [
    "import os\n",
    "from dotenv import load_dotenv\n",
    "\n",
    "# Load environment variables from .env file\n",
    "load_dotenv()\n",
    "\n",
    "# Access the API key\n",
    "api_key = os.getenv(\"API_KEY\")\n",
    "\n",
    "if not api_key:\n",
    "    raise ValueError(\"YOUTUBE_API_KEY not loaded. Please check your .env file.\")\n",
    "else:\n",
    "    print(\"API key loaded successfully.\")"
   ]
  },
  {
   "cell_type": "code",
   "execution_count": 5,
   "metadata": {},
   "outputs": [],
   "source": [
    "# Setting Up YouTube API Client\n",
    "import googleapiclient.discovery\n",
    "import googleapiclient.errors\n",
    "\n",
    "api_service_name = \"youtube\"\n",
    "api_version = \"v3\"\n",
    "DEVELOPER_KEY = os.getenv(\"api_key\")\n",
    "\n",
    "youtube = googleapiclient.discovery.build(\n",
    "    api_service_name, api_version, developerKey=api_key\n",
    ")"
   ]
  },
  {
   "cell_type": "code",
   "execution_count": 6,
   "metadata": {},
   "outputs": [
    {
     "data": {
      "application/vnd.microsoft.datawrangler.viewer.v0+json": {
       "columns": [
        {
         "name": "index",
         "rawType": "int64",
         "type": "integer"
        },
        {
         "name": "video_id",
         "rawType": "object",
         "type": "string"
        },
        {
         "name": "author",
         "rawType": "object",
         "type": "string"
        },
        {
         "name": "published_at",
         "rawType": "object",
         "type": "string"
        },
        {
         "name": "updated_at",
         "rawType": "object",
         "type": "string"
        },
        {
         "name": "like_count",
         "rawType": "int64",
         "type": "integer"
        },
        {
         "name": "text",
         "rawType": "object",
         "type": "string"
        }
       ],
       "conversionMethod": "pd.DataFrame",
       "ref": "24f9ebee-3739-46cf-97cf-609ce37bd680",
       "rows": [
        [
         "0",
         "2F26DR3Be4g",
         "@JimmyTheGiant",
         "2024-11-28T11:27:08Z",
         "2024-11-28T11:28:16Z",
         "53",
         "📢Join my discord: <a href=\"https://discord.gg/ucE5BAsKtn\">https://discord.gg/ucE5BAsKtn</a><br>🐦twitter: @jimthegiant - 🐦Bluesky: <a href=\"http://jimmythegiant.bsky.social/\">jimmythegiant.bsky.social</a>"
        ],
        [
         "1",
         "2F26DR3Be4g",
         "@williamlewis2220",
         "2025-01-31T10:56:20Z",
         "2025-01-31T11:03:09Z",
         "0",
         "I disagree with most of your points and find your whole world view very unbased, shockingly ignorant and very very soft, but I keep watching because your videos are so well made and it&#39;s good to hear another perspective"
        ],
        [
         "2",
         "2F26DR3Be4g",
         "@muhammadmusa6276",
         "2025-01-31T10:41:19Z",
         "2025-01-31T10:41:19Z",
         "0",
         "Brilliant nuanced video. Not attacking any side. Not pretending us immigrants are perfect. Getting to the root of the issue and not sensational bullshit. Brilliant. ❤"
        ],
        [
         "3",
         "2F26DR3Be4g",
         "@abjukabjik8828",
         "2025-01-31T09:25:48Z",
         "2025-01-31T09:25:48Z",
         "0",
         "No Man 2023 and 2022 are not COVID lockdown years"
        ],
        [
         "4",
         "2F26DR3Be4g",
         "@javigar133",
         "2025-01-30T22:23:03Z",
         "2025-01-30T22:23:03Z",
         "0",
         "Bless you! I hope this video gets viral, we need more Jimmy The Giants and less extremist politicians brainwashing sheep. Amazing content"
        ]
       ],
       "shape": {
        "columns": 6,
        "rows": 5
       }
      },
      "text/html": [
       "<div>\n",
       "<style scoped>\n",
       "    .dataframe tbody tr th:only-of-type {\n",
       "        vertical-align: middle;\n",
       "    }\n",
       "\n",
       "    .dataframe tbody tr th {\n",
       "        vertical-align: top;\n",
       "    }\n",
       "\n",
       "    .dataframe thead th {\n",
       "        text-align: right;\n",
       "    }\n",
       "</style>\n",
       "<table border=\"1\" class=\"dataframe\">\n",
       "  <thead>\n",
       "    <tr style=\"text-align: right;\">\n",
       "      <th></th>\n",
       "      <th>video_id</th>\n",
       "      <th>author</th>\n",
       "      <th>published_at</th>\n",
       "      <th>updated_at</th>\n",
       "      <th>like_count</th>\n",
       "      <th>text</th>\n",
       "    </tr>\n",
       "  </thead>\n",
       "  <tbody>\n",
       "    <tr>\n",
       "      <th>0</th>\n",
       "      <td>2F26DR3Be4g</td>\n",
       "      <td>@JimmyTheGiant</td>\n",
       "      <td>2024-11-28T11:27:08Z</td>\n",
       "      <td>2024-11-28T11:28:16Z</td>\n",
       "      <td>53</td>\n",
       "      <td>📢Join my discord: &lt;a href=\"https://discord.gg/...</td>\n",
       "    </tr>\n",
       "    <tr>\n",
       "      <th>1</th>\n",
       "      <td>2F26DR3Be4g</td>\n",
       "      <td>@williamlewis2220</td>\n",
       "      <td>2025-01-31T10:56:20Z</td>\n",
       "      <td>2025-01-31T11:03:09Z</td>\n",
       "      <td>0</td>\n",
       "      <td>I disagree with most of your points and find y...</td>\n",
       "    </tr>\n",
       "    <tr>\n",
       "      <th>2</th>\n",
       "      <td>2F26DR3Be4g</td>\n",
       "      <td>@muhammadmusa6276</td>\n",
       "      <td>2025-01-31T10:41:19Z</td>\n",
       "      <td>2025-01-31T10:41:19Z</td>\n",
       "      <td>0</td>\n",
       "      <td>Brilliant nuanced video. Not attacking any sid...</td>\n",
       "    </tr>\n",
       "    <tr>\n",
       "      <th>3</th>\n",
       "      <td>2F26DR3Be4g</td>\n",
       "      <td>@abjukabjik8828</td>\n",
       "      <td>2025-01-31T09:25:48Z</td>\n",
       "      <td>2025-01-31T09:25:48Z</td>\n",
       "      <td>0</td>\n",
       "      <td>No Man 2023 and 2022 are not COVID lockdown years</td>\n",
       "    </tr>\n",
       "    <tr>\n",
       "      <th>4</th>\n",
       "      <td>2F26DR3Be4g</td>\n",
       "      <td>@javigar133</td>\n",
       "      <td>2025-01-30T22:23:03Z</td>\n",
       "      <td>2025-01-30T22:23:03Z</td>\n",
       "      <td>0</td>\n",
       "      <td>Bless you! I hope this video gets viral, we ne...</td>\n",
       "    </tr>\n",
       "  </tbody>\n",
       "</table>\n",
       "</div>"
      ],
      "text/plain": [
       "      video_id             author          published_at            updated_at  \\\n",
       "0  2F26DR3Be4g     @JimmyTheGiant  2024-11-28T11:27:08Z  2024-11-28T11:28:16Z   \n",
       "1  2F26DR3Be4g  @williamlewis2220  2025-01-31T10:56:20Z  2025-01-31T11:03:09Z   \n",
       "2  2F26DR3Be4g  @muhammadmusa6276  2025-01-31T10:41:19Z  2025-01-31T10:41:19Z   \n",
       "3  2F26DR3Be4g    @abjukabjik8828  2025-01-31T09:25:48Z  2025-01-31T09:25:48Z   \n",
       "4  2F26DR3Be4g        @javigar133  2025-01-30T22:23:03Z  2025-01-30T22:23:03Z   \n",
       "\n",
       "   like_count                                               text  \n",
       "0          53  📢Join my discord: <a href=\"https://discord.gg/...  \n",
       "1           0  I disagree with most of your points and find y...  \n",
       "2           0  Brilliant nuanced video. Not attacking any sid...  \n",
       "3           0  No Man 2023 and 2022 are not COVID lockdown years  \n",
       "4           0  Bless you! I hope this video gets viral, we ne...  "
      ]
     },
     "execution_count": 6,
     "metadata": {},
     "output_type": "execute_result"
    }
   ],
   "source": [
    "# import pandas\n",
    "import pandas as pd\n",
    "\n",
    "# List of video IDs\n",
    "video_ids = [\"2F26DR3Be4g\", \"vAVsczZ3Oqk\"]\n",
    "\n",
    "# Fetch Comments from a Video\n",
    "comments = []\n",
    "\n",
    "for video_id in video_ids:\n",
    "    request = youtube.commentThreads().list(\n",
    "        part=\"snippet\",\n",
    "        videoId=video_id,\n",
    "        maxResults=100\n",
    "    )\n",
    "    response = request.execute()\n",
    "\n",
    "    for item in response['items']:\n",
    "        comment = item['snippet']['topLevelComment']['snippet']\n",
    "        comments.append([\n",
    "            video_id,  # Add video ID to identify the source video\n",
    "            comment['authorDisplayName'],\n",
    "            comment['publishedAt'],\n",
    "            comment['updatedAt'],\n",
    "            comment['likeCount'],\n",
    "            comment['textDisplay']\n",
    "        ])\n",
    "\n",
    "# Create a DataFrame with an additional column for video ID\n",
    "df = pd.DataFrame(comments, columns=['video_id', 'author', 'published_at', 'updated_at', 'like_count', 'text'])\n",
    "\n",
    "# Display the DataFrame\n",
    "df.head()\n"
   ]
  },
  {
   "cell_type": "code",
   "execution_count": 7,
   "metadata": {},
   "outputs": [
    {
     "data": {
      "text/plain": [
       "['video_id', 'author', 'published_at', 'updated_at', 'like_count', 'text']"
      ]
     },
     "execution_count": 7,
     "metadata": {},
     "output_type": "execute_result"
    }
   ],
   "source": [
    "# check the columns\n",
    "df.columns.to_list()"
   ]
  },
  {
   "cell_type": "markdown",
   "metadata": {},
   "source": [
    "# 📚 3. **DataBase  Setup**\n",
    "___\n",
    "\n",
    "<div style=\"font-family: Avenir, sans-serif; font-size: 16px; line-height: 1.6; color: white; background-color: #333; padding: 10px; border-radius: 5px;\">\n",
    "This section deals with the setup of the database and the integration of the collected data to the database.\n",
    "\n",
    "</div>"
   ]
  },
  {
   "cell_type": "code",
   "execution_count": 15,
   "metadata": {},
   "outputs": [
    {
     "name": "stdout",
     "output_type": "stream",
     "text": [
      "MySQL credentials loaded successfully.\n"
     ]
    }
   ],
   "source": [
    "# setting up the MySQL connection\n",
    "\n",
    "MYSQL_USERNAME = os.getenv(\"MYSQL_USERNAME\")\n",
    "MYSQL_PASSWORD = os.getenv(\"MYSQL_PASSWORD\")\n",
    "\n",
    "if not MYSQL_USERNAME or not MYSQL_PASSWORD:\n",
    "    raise ValueError(\"MYSQL_USERNAME or MYSQL_PASSWORD not loaded. Please check your .env file.\")\n",
    "else:\n",
    "    print(\"MySQL credentials loaded successfully.\")\n",
    "\n"
   ]
  },
  {
   "cell_type": "code",
   "execution_count": 17,
   "metadata": {},
   "outputs": [],
   "source": [
    "# Import the MySQL connector\n",
    "import mysql.connector\n",
    "\n",
    "# Database connection\n",
    "def connect_to_db():\n",
    "    return mysql.connector.connect(\n",
    "        host=\"localhost\",\n",
    "        user=MYSQL_USERNAME,\n",
    "        password=MYSQL_PASSWORD\n",
    "    )\n",
    "\n",
    "# Create database if it does not exist\n",
    "def create_database():\n",
    "    conn = connect_to_db()\n",
    "    cursor = conn.cursor()\n",
    "    cursor.execute(\"CREATE DATABASE IF NOT EXISTS uk_migration_youtube_comments_db\")\n",
    "    conn.close()\n",
    "\n",
    "# Connect to the database\n",
    "def connect_to_db_with_db():\n",
    "    return mysql.connector.connect(\n",
    "        host=\"localhost\",\n",
    "        user=MYSQL_USERNAME,\n",
    "        password=MYSQL_PASSWORD,\n",
    "        database=\"uk_migration_youTube_comments_db\"\n",
    "    )\n",
    "\n",
    "# Call the functions\n",
    "create_database()\n",
    "db = connect_to_db_with_db()"
   ]
  },
  {
   "cell_type": "code",
   "execution_count": 18,
   "metadata": {},
   "outputs": [],
   "source": [
    "# Create table\n",
    "def create_table():\n",
    "    conn = connect_to_db_with_db()\n",
    "    cursor = conn.cursor()\n",
    "    cursor.execute(\"\"\"\n",
    "        CREATE TABLE IF NOT EXISTS youtube_comments (\n",
    "            video_id VARCHAR(255),\n",
    "            author VARCHAR(255),\n",
    "            published_at DATETIME,\n",
    "            updated_at DATETIME,\n",
    "            like_count INT,\n",
    "            text TEXT\n",
    "        )\n",
    "    \"\"\")\n",
    "    conn.close()\n",
    "\n",
    "# Call the function to create the table\n",
    "create_table()"
   ]
  },
  {
   "cell_type": "code",
   "execution_count": 19,
   "metadata": {},
   "outputs": [],
   "source": [
    "# Function to insert data into the table\n",
    "def insert_data(df):\n",
    "    # Connect to the database\n",
    "    conn = connect_to_db_with_db()\n",
    "    cursor = conn.cursor()\n",
    "\n",
    "    # Convert datetime columns to MySQL-compatible format\n",
    "    df['published_at'] = pd.to_datetime(df['published_at']).dt.strftime('%Y-%m-%d %H:%M:%S')\n",
    "    df['updated_at'] = pd.to_datetime(df['updated_at']).dt.strftime('%Y-%m-%d %H:%M:%S')\n",
    "\n",
    "    # Iterate over each row in the DataFrame and insert it into the table\n",
    "    for index, row in df.iterrows():\n",
    "        video_id = row['video_id']\n",
    "        author = row['author']\n",
    "        published_at = row['published_at']\n",
    "        updated_at = row['updated_at']\n",
    "        like_count = row['like_count']\n",
    "        text = row['text']\n",
    "\n",
    "        # Execute the SQL query to insert the data\n",
    "        cursor.execute(\"\"\"\n",
    "            INSERT INTO youtube_comments (video_id, author, published_at, updated_at, like_count, text)\n",
    "            VALUES (%s, %s, %s, %s, %s, %s)\n",
    "        \"\"\", (video_id, author, published_at, updated_at, like_count, text))\n",
    "\n",
    "    # Commit the transaction\n",
    "    conn.commit()\n",
    "\n",
    "    # Close the connection\n",
    "    conn.close()\n"
   ]
  },
  {
   "cell_type": "code",
   "execution_count": 20,
   "metadata": {},
   "outputs": [],
   "source": [
    "# Call the function to insert data\n",
    "insert_data(df)"
   ]
  },
  {
   "cell_type": "code",
   "execution_count": 22,
   "metadata": {},
   "outputs": [
    {
     "data": {
      "application/vnd.microsoft.datawrangler.viewer.v0+json": {
       "columns": [
        {
         "name": "index",
         "rawType": "int64",
         "type": "integer"
        },
        {
         "name": "video_id",
         "rawType": "object",
         "type": "string"
        },
        {
         "name": "author",
         "rawType": "object",
         "type": "string"
        },
        {
         "name": "published_at",
         "rawType": "datetime64[ns]",
         "type": "datetime"
        },
        {
         "name": "updated_at",
         "rawType": "datetime64[ns]",
         "type": "datetime"
        },
        {
         "name": "like_count",
         "rawType": "int64",
         "type": "integer"
        },
        {
         "name": "text",
         "rawType": "object",
         "type": "string"
        }
       ],
       "conversionMethod": "pd.DataFrame",
       "ref": "1d65e1c3-1f08-4ced-9cc9-93c031a38d8e",
       "rows": [
        [
         "0",
         "2F26DR3Be4g",
         "@JimmyTheGiant",
         "2024-11-28 11:27:08",
         "2024-11-28 11:28:16",
         "53",
         "📢Join my discord: <a href=\"https://discord.gg/ucE5BAsKtn\">https://discord.gg/ucE5BAsKtn</a><br>🐦twitter: @jimthegiant - 🐦Bluesky: <a href=\"http://jimmythegiant.bsky.social/\">jimmythegiant.bsky.social</a>"
        ],
        [
         "1",
         "2F26DR3Be4g",
         "@ericmorneau8819",
         "2025-01-28 18:04:38",
         "2025-01-28 18:04:38",
         "0",
         "Isn&#39;t there a Dead Kennedy&#39;s song about this, something called &quot;kill the poor&quot;?<br>Idk, I&#39;m not british :/"
        ],
        [
         "2",
         "2F26DR3Be4g",
         "@Andrewlang90",
         "2025-01-28 05:24:26",
         "2025-01-28 05:24:26",
         "0",
         "While I agree, this is a global problem, but I pose you this question. How can I afford to pay more taxes to help the impoverished people out in my country when I can barely afford the cost of living? How does this make the world a better place?"
        ],
        [
         "3",
         "2F26DR3Be4g",
         "@SC-zh6li",
         "2025-01-27 23:47:34",
         "2025-01-27 23:47:34",
         "0",
         "They mentioned targetting car washes and nailbars, but no mention of raiding Brick Lane and similar."
        ],
        [
         "4",
         "2F26DR3Be4g",
         "@AmatoryLayne2.0",
         "2025-01-27 18:07:01",
         "2025-01-27 18:07:01",
         "0",
         "Well damn and I thought we were having it bad in the USA  😮😮😮"
        ],
        [
         "5",
         "2F26DR3Be4g",
         "@TheHeretiCan",
         "2025-01-27 14:35:57",
         "2025-01-27 14:35:57",
         "0",
         "Turkish guy here. You are wrong on so many of your assesments, assuming it wont get any better ill just stop watching and give you my 2 cents. You are being invaded. Mark my words. English children will live in very different world. We turks somehow survived for now. Mostly because we are at cold war with both iran and saudis. You dont have anything to keep your nationality alive."
        ],
        [
         "6",
         "2F26DR3Be4g",
         "@aj1102",
         "2025-01-27 03:19:20",
         "2025-01-27 03:19:20",
         "0",
         "I&#39;m convinced this was all planned, these things don&#39;t happen for a reason. create a problem then give us a solution that works for them. our small towns are crumbling, the capital is now so unbelievably overpriced for the average brit that its unfeasible to live there, interest is at an all time high and millionaires are leaving the country in droves. but instead of us leaning on the EU for help they convinced you to vote leave, the uk is about to enter another recession and they have everyone arguing over wether we should let Fatima and Mohammed in when all they want to do is live a peaceful life. instead of arguing with each other on instagram and YouTube we should be arguing with the government to try and get the Uk back into a country people want to call home and be proud to call home not leave for Dubai, Thailand, Australia and Canada. most western countries have their fair share of problems but this country unfortunately has become too far gone for most people to stomach. and again I&#39;m convinced its all by design, the NHS will become privatized within the next 10 years, were already turning into a police state with digital passports the gov can look into your bank account and live facial recognition everywhere, you get penalized for taking a wrong turn when driving in London now, everything has become a money grab for local authorities as most are near bankruptcy (apart form Kensington and Chelsea) surprise! sitting on the fence isn&#39;t going to cut it anymore."
        ],
        [
         "7",
         "2F26DR3Be4g",
         "@MrBUGS713",
         "2025-01-27 01:59:56",
         "2025-01-27 01:59:56",
         "0",
         "This whole video was a lie"
        ],
        [
         "8",
         "2F26DR3Be4g",
         "@derekrobsondirectbuildersl5863",
         "2025-01-26 10:27:57",
         "2025-01-26 10:27:57",
         "0",
         "People are being put into kebab meats dropped out at sea to get rid of all the bodies they hid the paperwork with and millions and i mean millions of children&#39;s life&#39;s taken away and repeatedly raped for years and now it looks like the end destruction of what&#39;s left of the uk"
        ],
        [
         "9",
         "2F26DR3Be4g",
         "@MrHorrorcon",
         "2025-01-25 09:24:14",
         "2025-01-25 09:24:14",
         "0",
         "The problem is however anyone who crosses from France is not escaping a warzone and feed into their rhetoric"
        ],
        [
         "10",
         "2F26DR3Be4g",
         "@KiffFan",
         "2025-01-24 20:46:51",
         "2025-01-24 20:46:51",
         "0",
         "Muslims and Africans want every indigenous European subjugated or extinct."
        ],
        [
         "11",
         "2F26DR3Be4g",
         "@KiffFan",
         "2025-01-24 20:40:27",
         "2025-01-24 20:40:27",
         "0",
         "&quot;Migrants&quot; are invading and replacing indigenous Europeans all over the continent. Regardless of their &quot;colonial history&quot;"
        ],
        [
         "12",
         "2F26DR3Be4g",
         "@KiffFan",
         "2025-01-24 20:32:39",
         "2025-01-24 20:32:39",
         "0",
         "Its genocide of indigenous Europeans"
        ],
        [
         "13",
         "2F26DR3Be4g",
         "@Ryusola",
         "2025-01-23 20:28:01",
         "2025-01-23 20:28:01",
         "0",
         "God I wish Mick would run for PM. I&#39;d vote him in, such an articulate man with firm convictions and a clear mind. Sadly that&#39;s why they&#39;ll never let him, same as Corbyn but hell of a shame to have him retire now."
        ],
        [
         "14",
         "2F26DR3Be4g",
         "@newtechchina1037",
         "2025-01-23 16:23:07",
         "2025-01-23 16:23:07",
         "1",
         "Really? I checked the issue with the town of Fundao in Portugal, 19 immigrants in a city of 32,000, no wonder they assimilated. Where do you have any evidence that illegal immigrants have a positive impact on the country&#39;s development? and when it comes to sexual violence in Sweden, the topic only covered legal refugees, not illegal immigrants, and in 2014-2015."
        ],
        [
         "15",
         "2F26DR3Be4g",
         "@rianna8368",
         "2025-01-23 12:37:27",
         "2025-01-23 12:37:27",
         "1",
         "If it wasn’t for heavy western influence in wars in these “third world countries” then there wouldn’t be as much of a need for asylum seekers. People forget that the west has been incentivising conflict in especially the Middle East all for power, land and steeling resources."
        ],
        [
         "16",
         "2F26DR3Be4g",
         "@rambidee4184",
         "2025-01-22 15:45:50",
         "2025-01-22 15:45:50",
         "0",
         "Due you are my new HERO !"
        ],
        [
         "17",
         "2F26DR3Be4g",
         "@ExpanderDJ",
         "2025-01-22 11:22:57",
         "2025-01-22 11:22:57",
         "1",
         "Valid points. You changed my opinion on the matter."
        ],
        [
         "18",
         "2F26DR3Be4g",
         "@lifexpansionpack",
         "2025-01-22 10:17:41",
         "2025-01-22 10:17:41",
         "0",
         "I often wonder how much of this is preaching to the already converted. If we want to change opinions there needs to be a strategy to get this message to those who we know oppose it."
        ],
        [
         "19",
         "2F26DR3Be4g",
         "@scottishJim80",
         "2025-01-21 17:36:52",
         "2025-01-21 17:45:39",
         "1",
         "im glad someone else said it!! &quot;im not racist but this shit is turning me racist&quot; i keep saying that.its turning lots of OAP;s where i live racist.&quot;TOO many african and asians getting everything and never paid a penny into the system&quot; they say plus all the other non british that works the benefit system,living on disability payments (there a couple beside me, europeans never paid into the system and has a disability car.and uses car to drive back to there country 4 holidays a year,but they got caught as someone stuck them in last year) giving workin europeans a bad name that,but in fairness the dole should have stopped there dole and tell them to work or bugger off back home."
        ],
        [
         "20",
         "2F26DR3Be4g",
         "@Journey22405",
         "2025-01-21 16:56:29",
         "2025-01-21 16:56:29",
         "0",
         "As a guy that has grown up in the UK and has lived here my whole life i have to say, with every passing year my enthusiasm for this country continues to fall rapidly. <br>every single year we are seeing less investment and somehow we are also seeing WAY less money for the government to spend how we can actively lose money when nothing gets invested is beyond me but thats the state we are in.<br>The fact that almost everythign will get worse including the overly exhaustive tax burden already placed upon us is just a sign of where things are going. I genuinely think that the vast majority of people are better off leaving the uk.<br>There is a shortage of high skilled immigration, but there is also a vast amount of high and even &quot;unskilled&quot; (unskilled labour/workers dont exist) leaving to go to other countries like Australia or New Zealand because they would get almost everything they get in this country but also nicer weather and a hell of a lot more money. <br>The UK will get worse before it gets better, a lot lot worse. the brain drain will continue, politicians are getting significantly worse and the country is slowly becoming more and more dysfunctional and divided. Get out while you can is all ill say."
        ],
        [
         "21",
         "2F26DR3Be4g",
         "@vvwalker7261",
         "2025-01-21 16:18:45",
         "2025-01-21 16:18:45",
         "0",
         "OMG, you are such a twit. You are just as bad as Farage and the rest, you just take the opposite argument, which makes you feel like a &quot;good&quot; person.<br>What matters is what gets voted for, if voters arent happy with the current levels of migration, then they are entitled to have those views actioned."
        ],
        [
         "22",
         "2F26DR3Be4g",
         "@yevgeniy5072",
         "2025-01-21 08:38:13",
         "2025-01-21 08:38:13",
         "0",
         "Muslim hate women, you can&#39;t deny that. And they bring this hate to UK"
        ],
        [
         "23",
         "2F26DR3Be4g",
         "@daurgo2001",
         "2025-01-21 08:21:34",
         "2025-01-21 08:21:34",
         "1",
         "Duck me. There is hope for the world…. I wish more people like Jimmy existed. Trump and Brexit have been two of the worst decisions in modern history the world has ever seen… let’s hope we survive this sh¡tshow."
        ],
        [
         "24",
         "2F26DR3Be4g",
         "@Ultimate_Comedy_",
         "2025-01-20 17:57:15",
         "2025-01-20 17:57:15",
         "0",
         "They could literally stop in any country on the way to the UK. Those places are all safe. I&#39;m not sure why they make such a long journey to just get to safety. If it was me, I&#39;d want to stay as close as possible so I could go home when it was safe."
        ],
        [
         "25",
         "2F26DR3Be4g",
         "@FilthyVirus",
         "2025-01-20 15:49:31",
         "2025-01-20 15:49:31",
         "0",
         "The problem is, majority of them are refusing to integrate into the society they moved in and are instead making demands. Everything else is nonsense."
        ],
        [
         "26",
         "2F26DR3Be4g",
         "@nastyham5302",
         "2025-01-20 10:36:39",
         "2025-01-20 10:36:39",
         "0",
         "How come it&#39;s always men?"
        ],
        [
         "27",
         "2F26DR3Be4g",
         "@somaelselino7627",
         "2025-01-20 09:45:57",
         "2025-01-20 09:45:57",
         "0",
         "These migrants shoul not have come to the UK. Why would one leave a shit hole to move to another shit hole?"
        ],
        [
         "28",
         "2F26DR3Be4g",
         "@ryanlee8712",
         "2025-01-20 06:03:07",
         "2025-01-20 06:03:07",
         "0",
         "Meant to feel sorry for illegal immigrants because they&#39;re getting &#39;shoved into a shitty hotel&#39; seriously they could&#39;ve stayed in Spain or France. They risk it in Britain because we are massive pushovers and will give totally undocumented illegals everything they want for free. <br>What an utter load of woke nonsense. Don&#39;t worry about these rape gangs either. They&#39;re nothing to do with immigration 😂"
        ],
        [
         "29",
         "2F26DR3Be4g",
         "@ChodeEnergy",
         "2025-01-19 22:59:14",
         "2025-01-19 22:59:14",
         "0",
         "You are not a refugee if you pass through multiple countries after fleeing where you came from. You are an economic migrant. Countries all over the world have immigration restrictions but it seems like it’s only a problem when White countries want to restrict immigration."
        ],
        [
         "30",
         "2F26DR3Be4g",
         "@JoeSPrince",
         "2025-01-19 15:39:54",
         "2025-01-19 15:39:54",
         "0",
         "I would love to see Jimmy and Douglas Murray sit down in a room to debate this for a solid hour..."
        ],
        [
         "31",
         "2F26DR3Be4g",
         "@the1madspirit387",
         "2025-01-18 22:32:17",
         "2025-01-18 22:32:17",
         "0",
         "i honestly dont think that specifically Britain needs to care about immigration that much. That said... I believe that a lot of bordering countries in Europe for example have issues with things like the huge influx of people on borders that then disperse all over. The influx in such &quot;small places&quot; is what I believe is a issue that I dont know how to solve. (I havent studied this but even logically it seems like it could be an actually big issue because the logistics involved are probably pretty unmanagable). <br><br>I know that this specifically doesnt affect you (nor does it effect me as a Czech citizen) but I at least sympathize with that view if not with the anti immigration view as a whole"
        ],
        [
         "32",
         "2F26DR3Be4g",
         "@bluestgemini",
         "2025-01-18 20:16:23",
         "2025-01-18 20:16:23",
         "0",
         "This video is so good and explains things in such a simple, digestible way. Will def be showing this to people who need to hear it. Thank you"
        ],
        [
         "33",
         "2F26DR3Be4g",
         "@ClocloX",
         "2025-01-18 20:06:40",
         "2025-01-18 20:06:40",
         "0",
         "Very insightful video! I do work in an industry with a lot of migrants who send benefit money back to their families, most of the ones I work with also have cash in hand side jobs. I was in the doctors the other day with 5 people ahead of me in the queue all waiting for a translator which delayed my appointment by nearly 2 hours. I don’t really have a solution however 90% of the migrants I work with are the most loveliest hard working people I’ve ever met."
        ],
        [
         "34",
         "2F26DR3Be4g",
         "@freedompodcast4518",
         "2025-01-18 12:55:34",
         "2025-01-18 12:55:34",
         "0",
         "I am born and living in the UK for 25 years I didn&#39;t see not much racism. But I do see racism on the rise from the Islamist and other bad stuff from them.<br><br>That is why I vote for Reform UK to stop racism on the rise and other bad stuff from Islamists."
        ],
        [
         "35",
         "2F26DR3Be4g",
         "@TheJanissary90",
         "2025-01-18 12:40:21",
         "2025-01-18 12:57:46",
         "1",
         "Britain:Colonizes Africa,İndia for centuries.<br>People from Colonized countries migrates to Britain<br>Britain:Wait this is illegal. <br>It&#39;s the constant cycle if you are a first world country keep destroying other countries be sure some of those people from those countries will end up in your borders.İF you are  person who don&#39;t like refugess.DONT support your goverment to operate in foreign countries.<br>Btw while 500 k migrants  causes &quot;Fall of WEST&quot; while I&#39;m a Turk living in Turkiye our moron president accept 10 million refugess from Afghanistan,Syria.South part of Turkiye has more Syrians than Turks.And our goverment keep trying to force this migrant as &quot;Brother in İslam&quot; man.İn truth EU pays monet to goverment for accept refugess from EU and keep them in Turkiye."
        ],
        [
         "36",
         "2F26DR3Be4g",
         "@twotrucks5263",
         "2025-01-17 16:44:27",
         "2025-01-17 16:44:27",
         "2",
         "It is unbelievable how effective right wing propaganda is, transforming &quot;Impoverished man with work visa troubles&quot; into &quot;illegal invader trying to bring Islamism to Europe&quot; in the eyes of the public. Nigel Farage deserves to be in jail"
        ],
        [
         "37",
         "2F26DR3Be4g",
         "@LensFlare67",
         "2025-01-17 10:56:32",
         "2025-01-17 10:56:32",
         "0",
         "Any person who acually wants to live in the uk is insane"
        ],
        [
         "38",
         "2F26DR3Be4g",
         "@Shamalamalam",
         "2025-01-17 07:25:53",
         "2025-01-17 07:25:53",
         "0",
         "&quot;Im not saying no one has migrated illegally, its VERY LIKELY that has happened&quot; 😂😂😂 oh yeah you think so ya dummy 😂😂😂"
        ],
        [
         "39",
         "2F26DR3Be4g",
         "@trumpbad4062",
         "2025-01-17 05:43:11",
         "2025-01-17 05:43:11",
         "0",
         "Hey Jimmy, enjoy the decline."
        ],
        [
         "40",
         "2F26DR3Be4g",
         "@haydenglendenning4305",
         "2025-01-16 09:52:38",
         "2025-01-16 09:52:38",
         "0",
         "Let me tell you crime rates have not gone down in the UK. People have taken a different stance and mostly hate police. So there is no trust and people tend to only report robberies and violent crimes. I think you will find a lot of drug crimes still happen its just most people take part in it so it&#39;s reported less. The generation of neighbourhood watches is slowly dying and people don&#39;t do that anymore. Things just don&#39;t get reported as much as they used too."
        ],
        [
         "41",
         "2F26DR3Be4g",
         "@RazorsharpLT",
         "2025-01-15 18:24:53",
         "2025-01-15 18:24:53",
         "1",
         "&quot;I don&#39;t want to be racist but it&#39;s making me&quot;<br><br>A guy with a face tattoo saying that is peak irony"
        ],
        [
         "42",
         "2F26DR3Be4g",
         "@khanm.a",
         "2025-01-15 17:10:36",
         "2025-01-15 17:10:36",
         "2",
         "One of the few people using their brains"
        ],
        [
         "43",
         "2F26DR3Be4g",
         "@Caveman227",
         "2025-01-14 12:44:31",
         "2025-01-14 12:44:31",
         "0",
         "If we incentivise people to ignore their problems we will never see a solution. STOP the benefits."
        ],
        [
         "44",
         "2F26DR3Be4g",
         "@EdnaFlanagan",
         "2025-01-14 07:52:37",
         "2025-01-14 07:52:37",
         "0",
         "There are military men crossing the border to get into my country from all over the world! They even send their prisoners across the border into my country! There is a migrant crisis going on in my country. Foreign criminals are an epidemic in my country now- raping, killing people- one lit a sleeping woman on fire in the NY subway, another just recently set fire to a part of Los Angeles that is presently burning down adding more damage that didn&#39;t need to occur!"
        ],
        [
         "45",
         "2F26DR3Be4g",
         "@Carllizard",
         "2025-01-13 21:25:36",
         "2025-01-13 21:26:24",
         "0",
         "I’m so depressed with the culture change that’s happened around me in the uk. I don’t feel like I belong here anymore. I feel like I live in Pakistan or Nigeria. id never fight for this country if we went to war.. I’d rather see it rot"
        ],
        [
         "46",
         "2F26DR3Be4g",
         "@frankvanrensburg2921",
         "2025-01-13 12:28:12",
         "2025-01-13 12:28:12",
         "0",
         "….of course a goat herder in Afghanistan would want to put up with two years of crap awaiting approval to settle in UK . No brainer here after a few years he can get his family in too and eventually the whole village. His journey will be sponsored by the oil rich middle eastern countries rabidly Islamic with a vengeful agenda."
        ],
        [
         "47",
         "2F26DR3Be4g",
         "@SuperVitz",
         "2025-01-13 11:42:17",
         "2025-01-13 11:42:17",
         "2",
         "I don&#39;t think anyone will appreciate the perspective of someone who comes from an immigrant family, my family moved to the UK as persecuted Christians from an Islamic regime. I don&#39;t think born and bred Brits will ever comprehend how lucky and naive they are. These issues are all exploited by populist politicians in such a disgusting way that meaningful conversation about it is almost impossible."
        ],
        [
         "48",
         "2F26DR3Be4g",
         "@RosemaryH-c7e",
         "2025-01-12 21:51:27",
         "2025-01-12 21:51:27",
         "0",
         "Come one come all yo uk 3rd eotld especially welcome by sir keir and his labour chanpagne socislists.  l"
        ],
        [
         "49",
         "2F26DR3Be4g",
         "@crazyt1483",
         "2025-01-12 17:57:57",
         "2025-01-12 17:57:57",
         "0",
         "Before watching I’m putting in my current opinion, so here is my opinion. We need to look at EU standards immigration (on average eu had a lower success rate causing a majority of those who are rejected to move on to us) but then also <br>ACCOMMODATION <br>anyone who comes over without young children basically gets university style accommodation with communal facilities with 1 room per couple or single person, they will attempt to keep families or bonded groups together when they can and it doesn’t create too much of an issue (ie a 5 room bonded group might not be granted a 6 room accommodation as that can cause issues with the 1 room person, so might be split or put in a 10 room with another bonded group. large families might get a house when it’s better for the government to do that. However this May roll back to the uni style accommodation under the previous bonded group idea. However if they are a family with young children they may get an apartment or house at the calculation of 1 bedroom per couple and 1 bedroom per 2 children.<br><br>STAY <br>During initial paperwork the paperwork stage to get initial benefits they need to put in the reasons why they left and where they left. If it’s not a valid reason they then go to court to plead there, an example might be for lgbtq reasons someone from Russia might be allowed, Iceland is told to get a valid visa but America gets argued in court. Though also there’s the risk of deportation when it’s safe beyond a reasonable doubt"
        ]
       ],
       "shape": {
        "columns": 6,
        "rows": 600
       }
      },
      "text/html": [
       "<div>\n",
       "<style scoped>\n",
       "    .dataframe tbody tr th:only-of-type {\n",
       "        vertical-align: middle;\n",
       "    }\n",
       "\n",
       "    .dataframe tbody tr th {\n",
       "        vertical-align: top;\n",
       "    }\n",
       "\n",
       "    .dataframe thead th {\n",
       "        text-align: right;\n",
       "    }\n",
       "</style>\n",
       "<table border=\"1\" class=\"dataframe\">\n",
       "  <thead>\n",
       "    <tr style=\"text-align: right;\">\n",
       "      <th></th>\n",
       "      <th>video_id</th>\n",
       "      <th>author</th>\n",
       "      <th>published_at</th>\n",
       "      <th>updated_at</th>\n",
       "      <th>like_count</th>\n",
       "      <th>text</th>\n",
       "    </tr>\n",
       "  </thead>\n",
       "  <tbody>\n",
       "    <tr>\n",
       "      <th>0</th>\n",
       "      <td>2F26DR3Be4g</td>\n",
       "      <td>@JimmyTheGiant</td>\n",
       "      <td>2024-11-28 11:27:08</td>\n",
       "      <td>2024-11-28 11:28:16</td>\n",
       "      <td>53</td>\n",
       "      <td>📢Join my discord: &lt;a href=\"https://discord.gg/...</td>\n",
       "    </tr>\n",
       "    <tr>\n",
       "      <th>1</th>\n",
       "      <td>2F26DR3Be4g</td>\n",
       "      <td>@ericmorneau8819</td>\n",
       "      <td>2025-01-28 18:04:38</td>\n",
       "      <td>2025-01-28 18:04:38</td>\n",
       "      <td>0</td>\n",
       "      <td>Isn&amp;#39;t there a Dead Kennedy&amp;#39;s song abou...</td>\n",
       "    </tr>\n",
       "    <tr>\n",
       "      <th>2</th>\n",
       "      <td>2F26DR3Be4g</td>\n",
       "      <td>@Andrewlang90</td>\n",
       "      <td>2025-01-28 05:24:26</td>\n",
       "      <td>2025-01-28 05:24:26</td>\n",
       "      <td>0</td>\n",
       "      <td>While I agree, this is a global problem, but I...</td>\n",
       "    </tr>\n",
       "    <tr>\n",
       "      <th>3</th>\n",
       "      <td>2F26DR3Be4g</td>\n",
       "      <td>@SC-zh6li</td>\n",
       "      <td>2025-01-27 23:47:34</td>\n",
       "      <td>2025-01-27 23:47:34</td>\n",
       "      <td>0</td>\n",
       "      <td>They mentioned targetting car washes and nailb...</td>\n",
       "    </tr>\n",
       "    <tr>\n",
       "      <th>4</th>\n",
       "      <td>2F26DR3Be4g</td>\n",
       "      <td>@AmatoryLayne2.0</td>\n",
       "      <td>2025-01-27 18:07:01</td>\n",
       "      <td>2025-01-27 18:07:01</td>\n",
       "      <td>0</td>\n",
       "      <td>Well damn and I thought we were having it bad ...</td>\n",
       "    </tr>\n",
       "    <tr>\n",
       "      <th>...</th>\n",
       "      <td>...</td>\n",
       "      <td>...</td>\n",
       "      <td>...</td>\n",
       "      <td>...</td>\n",
       "      <td>...</td>\n",
       "      <td>...</td>\n",
       "    </tr>\n",
       "    <tr>\n",
       "      <th>595</th>\n",
       "      <td>vAVsczZ3Oqk</td>\n",
       "      <td>@oolong2</td>\n",
       "      <td>2024-08-12 18:11:06</td>\n",
       "      <td>2024-08-12 18:11:06</td>\n",
       "      <td>4</td>\n",
       "      <td>&amp;quot;Blaming immigrants&amp;quot; is probably the...</td>\n",
       "    </tr>\n",
       "    <tr>\n",
       "      <th>596</th>\n",
       "      <td>vAVsczZ3Oqk</td>\n",
       "      <td>@samirkhan-mb4yp</td>\n",
       "      <td>2024-08-12 17:57:12</td>\n",
       "      <td>2024-08-12 17:57:12</td>\n",
       "      <td>0</td>\n",
       "      <td>When you are enemy of Muslim and migrant peopl...</td>\n",
       "    </tr>\n",
       "    <tr>\n",
       "      <th>597</th>\n",
       "      <td>vAVsczZ3Oqk</td>\n",
       "      <td>@UkUkBDIndia</td>\n",
       "      <td>2024-08-12 17:55:18</td>\n",
       "      <td>2024-08-12 17:55:18</td>\n",
       "      <td>0</td>\n",
       "      <td>the  english  wants   everything   for  free  ...</td>\n",
       "    </tr>\n",
       "    <tr>\n",
       "      <th>598</th>\n",
       "      <td>vAVsczZ3Oqk</td>\n",
       "      <td>@lilliankeane5731</td>\n",
       "      <td>2024-08-12 17:40:03</td>\n",
       "      <td>2024-08-12 17:40:03</td>\n",
       "      <td>0</td>\n",
       "      <td>It’s not the poor people that is the problem i...</td>\n",
       "    </tr>\n",
       "    <tr>\n",
       "      <th>599</th>\n",
       "      <td>vAVsczZ3Oqk</td>\n",
       "      <td>@MamaSal-b9x</td>\n",
       "      <td>2024-08-12 17:29:12</td>\n",
       "      <td>2024-08-12 17:29:12</td>\n",
       "      <td>7</td>\n",
       "      <td>You have colonized other countries and took th...</td>\n",
       "    </tr>\n",
       "  </tbody>\n",
       "</table>\n",
       "<p>600 rows × 6 columns</p>\n",
       "</div>"
      ],
      "text/plain": [
       "        video_id             author        published_at          updated_at  \\\n",
       "0    2F26DR3Be4g     @JimmyTheGiant 2024-11-28 11:27:08 2024-11-28 11:28:16   \n",
       "1    2F26DR3Be4g   @ericmorneau8819 2025-01-28 18:04:38 2025-01-28 18:04:38   \n",
       "2    2F26DR3Be4g      @Andrewlang90 2025-01-28 05:24:26 2025-01-28 05:24:26   \n",
       "3    2F26DR3Be4g          @SC-zh6li 2025-01-27 23:47:34 2025-01-27 23:47:34   \n",
       "4    2F26DR3Be4g   @AmatoryLayne2.0 2025-01-27 18:07:01 2025-01-27 18:07:01   \n",
       "..           ...                ...                 ...                 ...   \n",
       "595  vAVsczZ3Oqk           @oolong2 2024-08-12 18:11:06 2024-08-12 18:11:06   \n",
       "596  vAVsczZ3Oqk   @samirkhan-mb4yp 2024-08-12 17:57:12 2024-08-12 17:57:12   \n",
       "597  vAVsczZ3Oqk       @UkUkBDIndia 2024-08-12 17:55:18 2024-08-12 17:55:18   \n",
       "598  vAVsczZ3Oqk  @lilliankeane5731 2024-08-12 17:40:03 2024-08-12 17:40:03   \n",
       "599  vAVsczZ3Oqk       @MamaSal-b9x 2024-08-12 17:29:12 2024-08-12 17:29:12   \n",
       "\n",
       "     like_count                                               text  \n",
       "0            53  📢Join my discord: <a href=\"https://discord.gg/...  \n",
       "1             0  Isn&#39;t there a Dead Kennedy&#39;s song abou...  \n",
       "2             0  While I agree, this is a global problem, but I...  \n",
       "3             0  They mentioned targetting car washes and nailb...  \n",
       "4             0  Well damn and I thought we were having it bad ...  \n",
       "..          ...                                                ...  \n",
       "595           4  &quot;Blaming immigrants&quot; is probably the...  \n",
       "596           0  When you are enemy of Muslim and migrant peopl...  \n",
       "597           0  the  english  wants   everything   for  free  ...  \n",
       "598           0  It’s not the poor people that is the problem i...  \n",
       "599           7  You have colonized other countries and took th...  \n",
       "\n",
       "[600 rows x 6 columns]"
      ]
     },
     "execution_count": 22,
     "metadata": {},
     "output_type": "execute_result"
    }
   ],
   "source": [
    "# Function to execute SQL queries and display results\n",
    "def execute_query(query):\n",
    "    conn = connect_to_db_with_db()\n",
    "    cursor = conn.cursor()\n",
    "    cursor.execute(query)\n",
    "    \n",
    "    # Fetch results and convert to a DataFrame\n",
    "    result = cursor.fetchall()\n",
    "    columns = [desc[0] for desc in cursor.description]  # Column names\n",
    "    \n",
    "    cursor.close()\n",
    "    conn.close()\n",
    "    \n",
    "    return pd.DataFrame(result, columns=columns)\n",
    "\n",
    "\n",
    "sqlquery = \"\"\"\n",
    "\n",
    "SELECT * FROM youtube_comments;\n",
    "\n",
    "\"\"\"\n",
    "# Execute the query and display the results\n",
    "result_df = execute_query(sqlquery)\n",
    "result_df"
   ]
  },
  {
   "cell_type": "markdown",
   "metadata": {},
   "source": [
    "# 📚 4. **ETL Pipeline Development**\n",
    "___\n",
    "\n",
    "<div style=\"font-family: Avenir, sans-serif; font-size: 16px; line-height: 1.6; color: white; background-color: #333; padding: 10px; border-radius: 5px;\">\n",
    "This section deals with ...\n",
    "\n",
    "</div>"
   ]
  },
  {
   "cell_type": "code",
   "execution_count": null,
   "metadata": {},
   "outputs": [],
   "source": []
  },
  {
   "cell_type": "markdown",
   "metadata": {},
   "source": [
    "# 📚 5. **Train and Evaluate Sentiment Model**\n",
    "___\n",
    "\n",
    "<div style=\"font-family: Avenir, sans-serif; font-size: 16px; line-height: 1.6; color: white; background-color: #333; padding: 10px; border-radius: 5px;\">\n",
    "This section deals with ...\n",
    "\n",
    "</div>"
   ]
  },
  {
   "cell_type": "code",
   "execution_count": null,
   "metadata": {},
   "outputs": [],
   "source": []
  },
  {
   "cell_type": "markdown",
   "metadata": {},
   "source": [
    "# 📚 6. **Model Deployment**\n",
    "___\n",
    "\n",
    "<div style=\"font-family: Avenir, sans-serif; font-size: 16px; line-height: 1.6; color: white; background-color: #333; padding: 10px; border-radius: 5px;\">\n",
    "This section deals with ...\n",
    "\n",
    "</div>"
   ]
  }
 ],
 "metadata": {
  "kernelspec": {
   "display_name": ".venv",
   "language": "python",
   "name": "python3"
  },
  "language_info": {
   "codemirror_mode": {
    "name": "ipython",
    "version": 3
   },
   "file_extension": ".py",
   "mimetype": "text/x-python",
   "name": "python",
   "nbconvert_exporter": "python",
   "pygments_lexer": "ipython3",
   "version": "3.10.13"
  }
 },
 "nbformat": 4,
 "nbformat_minor": 2
}
